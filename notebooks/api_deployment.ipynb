{
 "cells": [
  {
   "cell_type": "markdown",
   "id": "3772251b",
   "metadata": {},
   "source": [
    "# Deploy Global Economy Data as an API"
   ]
  },
  {
   "cell_type": "markdown",
   "id": "b2c54047",
   "metadata": {},
   "source": [
    "This notebook demonstrates how to expose your processed dataset using **FastAPI** so others can query data programmatically."
   ]
  },
  {
   "cell_type": "markdown",
   "id": "04762cf8",
   "metadata": {},
   "source": [
    "**Endpoints we'll build:**\n",
    "- `/` - Welcome message + basic info\n",
    "- `/summary` - Summary statistics\n",
    "- `/region/{region}` - Get all data for a specific region\n",
    "- `/country/{code}` - Lookup by country code"
   ]
  },
  {
   "cell_type": "markdown",
   "id": "e483fc18",
   "metadata": {},
   "source": [
    "## 1️⃣ Install Dependencies"
   ]
  },
  {
   "cell_type": "code",
   "execution_count": null,
   "id": "0b2568a7",
   "metadata": {},
   "outputs": [],
   "source": [
    "%pip install fastapi uvicorn pandas nest_asyncio pyngrok --quiet"
   ]
  },
  {
   "cell_type": "markdown",
   "id": "9d924795",
   "metadata": {},
   "source": [
    "## 2️⃣ Load Processed Dataset"
   ]
  },
  {
   "cell_type": "code",
   "execution_count": null,
   "id": "965707bd",
   "metadata": {},
   "outputs": [],
   "source": [
    "import pandas as pd\n",
    "\n",
    "# Load the processed dataset\n",
    "DATA_FILE = \"D:\\courses\\Data Science\\Projects\\Python\\world-economy-bi-project\\data\\processed_data.csv\"\n",
    "df = pd.read_csv(DATA_FILE)\n",
    "print(f\"✅ Data loaded with {df.shape[0]} rows and {df.shape[1]} columns.\")\n",
    "df.head()"
   ]
  },
  {
   "cell_type": "markdown",
   "id": "e0c7a4e9",
   "metadata": {},
   "source": [
    "## 3️⃣ Build FastAPI App"
   ]
  },
  {
   "cell_type": "code",
   "execution_count": null,
   "id": "d1196681",
   "metadata": {},
   "outputs": [],
   "source": [
    "from fastapi import FastAPI, HTTPException\n",
    "from fastapi.responses import JSONResponse\n",
    "import nest_asyncio\n",
    "import uvicorn\n",
    "\n",
    "app = FastAPI(title=\"Global Economy API\", description=\"Query World Bank + HDI data\", version=\"1.0\")\n",
    "\n",
    "@app.get(\"/\")\n",
    "async def root():\n",
    "    return {\"message\": \"🌍 Welcome to the Global Economy API!\", \"rows\": len(df), \"columns\": list(df.columns)}\n",
    "\n",
    "@app.get(\"/summary\")\n",
    "async def summary():\n",
    "    return JSONResponse(content=df.describe(include=\"all\").to_dict())\n",
    "\n",
    "@app.get(\"/region/{region}\")\n",
    "async def get_region(region: str):\n",
    "    region_df = df[df[\"Region\"].str.lower() == region.lower()]\n",
    "    if region_df.empty:\n",
    "        raise HTTPException(status_code=404, detail=f\"Region '{region}' not found\")\n",
    "    return JSONResponse(content=region_df.to_dict(orient=\"records\"))\n",
    "\n",
    "@app.get(\"/country/{code}\")\n",
    "async def get_country(code: str):\n",
    "    country_df = df[df[\"Country Code\"].str.upper() == code.upper()]\n",
    "    if country_df.empty:\n",
    "        raise HTTPException(status_code=404, detail=f\"Country Code '{code}' not found\")\n",
    "    return JSONResponse(content=country_df.to_dict(orient=\"records\"))\n"
   ]
  },
  {
   "cell_type": "markdown",
   "id": "239dfc9d",
   "metadata": {},
   "source": [
    "## 4️⃣ Run Locally in Notebook"
   ]
  },
  {
   "cell_type": "code",
   "execution_count": null,
   "id": "fa872aa0",
   "metadata": {},
   "outputs": [],
   "source": [
    "# Allow uvicorn to run inside Jupyter\n",
    "nest_asyncio.apply()\n",
    "uvicorn.run(app, host=\"0.0.0.0\", port=8000)"
   ]
  },
  {
   "cell_type": "markdown",
   "id": "bc177bac",
   "metadata": {},
   "source": [
    "## 5️⃣ Test Your API"
   ]
  },
  {
   "cell_type": "markdown",
   "id": "4c1523a7",
   "metadata": {},
   "source": [
    "Once the server is running, open:\n",
    "- [http://127.0.0.1:8000/](http://127.0.0.1:8000/) → Welcome page\n",
    "- [http://127.0.0.1:8000/docs](http://127.0.0.1:8000/docs) → Interactive API Docs"
   ]
  },
  {
   "cell_type": "markdown",
   "id": "6d9a315a",
   "metadata": {},
   "source": [
    "Example calls:"
   ]
  },
  {
   "cell_type": "code",
   "execution_count": null,
   "id": "6dbc33e5",
   "metadata": {},
   "outputs": [],
   "source": [
    "# import requests\n",
    "# res = requests.get(\"http://127.0.0.1:8000/region/Asia\")\n",
    "# res.json()[:3]  # first 3 records"
   ]
  },
  {
   "cell_type": "markdown",
   "id": "114004c8",
   "metadata": {},
   "source": [
    "## 6️⃣ Deployment Options"
   ]
  },
  {
   "cell_type": "markdown",
   "id": "defd897a",
   "metadata": {},
   "source": [
    "- **Render.com**: Simple free tier for API hosting\n",
    "- **Railway.app**: Easy CI/CD + auto-deploy from GitHub\n",
    "- **Hugging Face Spaces (Gradio/Streamlit)**: Free data app hosting"
   ]
  },
  {
   "cell_type": "markdown",
   "id": "492e6a5e",
   "metadata": {},
   "source": [
    "### Recommended:\n",
    "- Create `main.py` (same as app code above)\n",
    "- Add `requirements.txt` with:\n",
    "  ```\n",
    "  fastapi\n",
    "  uvicorn\n",
    "  pandas\n",
    "  ```"
   ]
  }
 ],
 "metadata": {
  "kernelspec": {
   "display_name": ".venv (3.13.7)",
   "language": "python",
   "name": "python3"
  },
  "language_info": {
   "codemirror_mode": {
    "name": "ipython",
    "version": 3
   },
   "file_extension": ".py",
   "mimetype": "text/x-python",
   "name": "python",
   "nbconvert_exporter": "python",
   "pygments_lexer": "ipython3",
   "version": "3.13.7"
  }
 },
 "nbformat": 4,
 "nbformat_minor": 5
}
